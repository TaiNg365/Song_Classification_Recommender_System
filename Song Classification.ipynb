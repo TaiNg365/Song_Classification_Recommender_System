{
 "cells": [
  {
   "cell_type": "code",
   "execution_count": 1,
   "metadata": {
    "collapsed": true
   },
   "outputs": [],
   "source": [
    "import pandas as pd\n",
    "import numpy as np\n",
    "import seaborn as sns\n",
    "import matplotlib.pyplot as plt\n",
    "%matplotlib inline\n",
    "import sklearn\n",
    "import librosa\n",
    "from librosa.core import audio\n",
    "import librosa.display\n",
    "import IPython.display as  ipd\n",
    "import warnings\n",
    "warnings.filterwarnings('ignore')\n",
    "import os"
   ]
  },
  {
   "cell_type": "code",
   "execution_count": 2,
   "outputs": [],
   "source": [
    "dir = \"/Users/tainguyen/Library/CloudStorage/OneDrive-MichiganStateUniversity/Phuoc Tai Mastermind/Personal/Tai/Song_Data/fma_metadata\""
   ],
   "metadata": {
    "collapsed": false,
    "pycharm": {
     "name": "#%%\n"
    }
   }
  },
  {
   "cell_type": "markdown",
   "source": [
    "## General Informations about the song"
   ],
   "metadata": {
    "collapsed": false,
    "pycharm": {
     "name": "#%% md\n"
    }
   }
  },
  {
   "cell_type": "code",
   "execution_count": 33,
   "outputs": [
    {
     "name": "stdout",
     "output_type": "stream",
     "text": [
      "shape of the tracks dataframe:  (106574, 53)\n"
     ]
    },
    {
     "data": {
      "text/plain": "  track_id  album_comments   album_date_created  album_date_released  \\\n1        2             0.0  2008-11-26 01:44:45  2009-01-05 00:00:00   \n2        3             0.0  2008-11-26 01:44:45  2009-01-05 00:00:00   \n3        5             0.0  2008-11-26 01:44:45  2009-01-05 00:00:00   \n4       10             0.0  2008-11-26 01:45:08  2008-02-06 00:00:00   \n5       20             0.0  2008-11-26 01:45:05  2009-01-06 00:00:00   \n\n  album_engineer  album_favorites  album_id  \\\n1            NaN              4.0       1.0   \n2            NaN              4.0       1.0   \n3            NaN              4.0       1.0   \n4            NaN              4.0       6.0   \n5            NaN              2.0       4.0   \n\n                           album_information  album_listens album_producer  \\\n1                                    <p></p>         6073.0            NaN   \n2                                    <p></p>         6073.0            NaN   \n3                                    <p></p>         6073.0            NaN   \n4                                        NaN        47632.0            NaN   \n5  <p> \"spiritual songs\" from Nicky Cook</p>         2710.0            NaN   \n\n   ... track_information track_interest  track_language_code  \\\n1  ...               NaN         4656.0                   en   \n2  ...               NaN         1470.0                   en   \n3  ...               NaN         1933.0                   en   \n4  ...               NaN        54881.0                   en   \n5  ...               NaN          978.0                   en   \n\n                                       track_license track_listens  \\\n1  Attribution-NonCommercial-ShareAlike 3.0 Inter...        1293.0   \n2  Attribution-NonCommercial-ShareAlike 3.0 Inter...         514.0   \n3  Attribution-NonCommercial-ShareAlike 3.0 Inter...        1151.0   \n4  Attribution-NonCommercial-NoDerivatives (aka M...       50135.0   \n5  Attribution-NonCommercial-NoDerivatives (aka M...         361.0   \n\n  track_lyricist track_number track_publisher  track_tags      track_title  \n1            NaN          3.0             NaN          []             Food  \n2            NaN          4.0             NaN          []     Electric Ave  \n3            NaN          6.0             NaN          []       This World  \n4            NaN          1.0             NaN          []          Freeway  \n5            NaN          3.0             NaN          []  Spiritual Level  \n\n[5 rows x 53 columns]",
      "text/html": "<div>\n<style scoped>\n    .dataframe tbody tr th:only-of-type {\n        vertical-align: middle;\n    }\n\n    .dataframe tbody tr th {\n        vertical-align: top;\n    }\n\n    .dataframe thead th {\n        text-align: right;\n    }\n</style>\n<table border=\"1\" class=\"dataframe\">\n  <thead>\n    <tr style=\"text-align: right;\">\n      <th></th>\n      <th>track_id</th>\n      <th>album_comments</th>\n      <th>album_date_created</th>\n      <th>album_date_released</th>\n      <th>album_engineer</th>\n      <th>album_favorites</th>\n      <th>album_id</th>\n      <th>album_information</th>\n      <th>album_listens</th>\n      <th>album_producer</th>\n      <th>...</th>\n      <th>track_information</th>\n      <th>track_interest</th>\n      <th>track_language_code</th>\n      <th>track_license</th>\n      <th>track_listens</th>\n      <th>track_lyricist</th>\n      <th>track_number</th>\n      <th>track_publisher</th>\n      <th>track_tags</th>\n      <th>track_title</th>\n    </tr>\n  </thead>\n  <tbody>\n    <tr>\n      <th>1</th>\n      <td>2</td>\n      <td>0.0</td>\n      <td>2008-11-26 01:44:45</td>\n      <td>2009-01-05 00:00:00</td>\n      <td>NaN</td>\n      <td>4.0</td>\n      <td>1.0</td>\n      <td>&lt;p&gt;&lt;/p&gt;</td>\n      <td>6073.0</td>\n      <td>NaN</td>\n      <td>...</td>\n      <td>NaN</td>\n      <td>4656.0</td>\n      <td>en</td>\n      <td>Attribution-NonCommercial-ShareAlike 3.0 Inter...</td>\n      <td>1293.0</td>\n      <td>NaN</td>\n      <td>3.0</td>\n      <td>NaN</td>\n      <td>[]</td>\n      <td>Food</td>\n    </tr>\n    <tr>\n      <th>2</th>\n      <td>3</td>\n      <td>0.0</td>\n      <td>2008-11-26 01:44:45</td>\n      <td>2009-01-05 00:00:00</td>\n      <td>NaN</td>\n      <td>4.0</td>\n      <td>1.0</td>\n      <td>&lt;p&gt;&lt;/p&gt;</td>\n      <td>6073.0</td>\n      <td>NaN</td>\n      <td>...</td>\n      <td>NaN</td>\n      <td>1470.0</td>\n      <td>en</td>\n      <td>Attribution-NonCommercial-ShareAlike 3.0 Inter...</td>\n      <td>514.0</td>\n      <td>NaN</td>\n      <td>4.0</td>\n      <td>NaN</td>\n      <td>[]</td>\n      <td>Electric Ave</td>\n    </tr>\n    <tr>\n      <th>3</th>\n      <td>5</td>\n      <td>0.0</td>\n      <td>2008-11-26 01:44:45</td>\n      <td>2009-01-05 00:00:00</td>\n      <td>NaN</td>\n      <td>4.0</td>\n      <td>1.0</td>\n      <td>&lt;p&gt;&lt;/p&gt;</td>\n      <td>6073.0</td>\n      <td>NaN</td>\n      <td>...</td>\n      <td>NaN</td>\n      <td>1933.0</td>\n      <td>en</td>\n      <td>Attribution-NonCommercial-ShareAlike 3.0 Inter...</td>\n      <td>1151.0</td>\n      <td>NaN</td>\n      <td>6.0</td>\n      <td>NaN</td>\n      <td>[]</td>\n      <td>This World</td>\n    </tr>\n    <tr>\n      <th>4</th>\n      <td>10</td>\n      <td>0.0</td>\n      <td>2008-11-26 01:45:08</td>\n      <td>2008-02-06 00:00:00</td>\n      <td>NaN</td>\n      <td>4.0</td>\n      <td>6.0</td>\n      <td>NaN</td>\n      <td>47632.0</td>\n      <td>NaN</td>\n      <td>...</td>\n      <td>NaN</td>\n      <td>54881.0</td>\n      <td>en</td>\n      <td>Attribution-NonCommercial-NoDerivatives (aka M...</td>\n      <td>50135.0</td>\n      <td>NaN</td>\n      <td>1.0</td>\n      <td>NaN</td>\n      <td>[]</td>\n      <td>Freeway</td>\n    </tr>\n    <tr>\n      <th>5</th>\n      <td>20</td>\n      <td>0.0</td>\n      <td>2008-11-26 01:45:05</td>\n      <td>2009-01-06 00:00:00</td>\n      <td>NaN</td>\n      <td>2.0</td>\n      <td>4.0</td>\n      <td>&lt;p&gt; \"spiritual songs\" from Nicky Cook&lt;/p&gt;</td>\n      <td>2710.0</td>\n      <td>NaN</td>\n      <td>...</td>\n      <td>NaN</td>\n      <td>978.0</td>\n      <td>en</td>\n      <td>Attribution-NonCommercial-NoDerivatives (aka M...</td>\n      <td>361.0</td>\n      <td>NaN</td>\n      <td>3.0</td>\n      <td>NaN</td>\n      <td>[]</td>\n      <td>Spiritual Level</td>\n    </tr>\n  </tbody>\n</table>\n<p>5 rows × 53 columns</p>\n</div>"
     },
     "execution_count": 33,
     "metadata": {},
     "output_type": "execute_result"
    }
   ],
   "source": [
    "tracks = pd.read_csv(dir+\"/tracks.csv\",header=[0,1])\n",
    "tracks.columns = tracks.columns.map('_'.join)\n",
    "tracks.rename(columns={ tracks.columns[0]: \"track_id\" }, inplace = True)\n",
    "tracks = tracks.iloc[1: , :]\n",
    "print(\"shape of the tracks dataframe: \",str(tracks.shape))\n",
    "tracks.head()"
   ],
   "metadata": {
    "collapsed": false,
    "pycharm": {
     "name": "#%%\n"
    }
   }
  },
  {
   "cell_type": "code",
   "execution_count": 32,
   "outputs": [
    {
     "data": {
      "text/plain": "Index(['track_id', 'album_comments', 'album_date_created',\n       'album_date_released', 'album_engineer', 'album_favorites', 'album_id',\n       'album_information', 'album_listens', 'album_producer', 'album_tags',\n       'album_title', 'album_tracks', 'album_type', 'artist_active_year_begin',\n       'artist_active_year_end', 'artist_associated_labels', 'artist_bio',\n       'artist_comments', 'artist_date_created', 'artist_favorites',\n       'artist_id', 'artist_latitude', 'artist_location', 'artist_longitude',\n       'artist_members', 'artist_name', 'artist_related_projects',\n       'artist_tags', 'artist_website', 'artist_wikipedia_page', 'set_split',\n       'set_subset', 'track_bit_rate', 'track_comments', 'track_composer',\n       'track_date_created', 'track_date_recorded', 'track_duration',\n       'track_favorites', 'track_genre_top', 'track_genres',\n       'track_genres_all', 'track_information', 'track_interest',\n       'track_language_code', 'track_license', 'track_listens',\n       'track_lyricist', 'track_number', 'track_publisher', 'track_tags',\n       'track_title'],\n      dtype='object')"
     },
     "execution_count": 32,
     "metadata": {},
     "output_type": "execute_result"
    }
   ],
   "source": [
    "tracks.columns"
   ],
   "metadata": {
    "collapsed": false,
    "pycharm": {
     "name": "#%%\n"
    }
   }
  },
  {
   "cell_type": "markdown",
   "source": [
    "There are total of 106574 songs with information about the album that song is in, the artist, and general information about the song like the release date and others. For the purpose of this project, I will only get the track_duration, track_genres, and track_title from this dataset."
   ],
   "metadata": {
    "collapsed": false,
    "pycharm": {
     "name": "#%% md\n"
    }
   }
  },
  {
   "cell_type": "code",
   "execution_count": 80,
   "outputs": [
    {
     "data": {
      "text/plain": "  track_id  track_duration track_genre_top      track_title\n1        2           168.0         Hip-Hop             Food\n2        3           237.0         Hip-Hop     Electric Ave\n3        5           206.0         Hip-Hop       This World\n4       10           161.0             Pop          Freeway\n5       20           311.0             NaN  Spiritual Level",
      "text/html": "<div>\n<style scoped>\n    .dataframe tbody tr th:only-of-type {\n        vertical-align: middle;\n    }\n\n    .dataframe tbody tr th {\n        vertical-align: top;\n    }\n\n    .dataframe thead th {\n        text-align: right;\n    }\n</style>\n<table border=\"1\" class=\"dataframe\">\n  <thead>\n    <tr style=\"text-align: right;\">\n      <th></th>\n      <th>track_id</th>\n      <th>track_duration</th>\n      <th>track_genre_top</th>\n      <th>track_title</th>\n    </tr>\n  </thead>\n  <tbody>\n    <tr>\n      <th>1</th>\n      <td>2</td>\n      <td>168.0</td>\n      <td>Hip-Hop</td>\n      <td>Food</td>\n    </tr>\n    <tr>\n      <th>2</th>\n      <td>3</td>\n      <td>237.0</td>\n      <td>Hip-Hop</td>\n      <td>Electric Ave</td>\n    </tr>\n    <tr>\n      <th>3</th>\n      <td>5</td>\n      <td>206.0</td>\n      <td>Hip-Hop</td>\n      <td>This World</td>\n    </tr>\n    <tr>\n      <th>4</th>\n      <td>10</td>\n      <td>161.0</td>\n      <td>Pop</td>\n      <td>Freeway</td>\n    </tr>\n    <tr>\n      <th>5</th>\n      <td>20</td>\n      <td>311.0</td>\n      <td>NaN</td>\n      <td>Spiritual Level</td>\n    </tr>\n  </tbody>\n</table>\n</div>"
     },
     "execution_count": 80,
     "metadata": {},
     "output_type": "execute_result"
    }
   ],
   "source": [
    "tracks_features_of_interest = tracks[['track_id', 'track_duration', 'track_genre_top', 'track_title']]\n",
    "tracks_features_of_interest.head()"
   ],
   "metadata": {
    "collapsed": false,
    "pycharm": {
     "name": "#%%\n"
    }
   }
  },
  {
   "cell_type": "markdown",
   "source": [
    "## Features from Librosa"
   ],
   "metadata": {
    "collapsed": false,
    "pycharm": {
     "name": "#%% md\n"
    }
   }
  },
  {
   "cell_type": "code",
   "execution_count": 45,
   "outputs": [
    {
     "name": "stdout",
     "output_type": "stream",
     "text": [
      "shape of the tracks dataframe:  (106574, 519)\n"
     ]
    },
    {
     "data": {
      "text/plain": "  track_id  chroma_cens_kurtosis_01  chroma_cens_kurtosis_02  \\\n1        2                 7.180653                 5.230309   \n2        3                 1.888963                 0.760539   \n3        5                 0.527563                -0.077654   \n4       10                 3.702245                -0.291193   \n5       20                -0.193837                -0.198527   \n\n   chroma_cens_kurtosis_03  chroma_cens_kurtosis_04  chroma_cens_kurtosis_05  \\\n1                 0.249321                 1.347620                 1.482478   \n2                 0.345297                 2.295201                 1.654031   \n3                -0.279610                 0.685883                 1.937570   \n4                 2.196742                -0.234449                 1.367364   \n5                 0.201546                 0.258556                 0.775204   \n\n   chroma_cens_kurtosis_06  chroma_cens_kurtosis_07  chroma_cens_kurtosis_08  \\\n1                 0.531371                 1.481593                 2.691455   \n2                 0.067592                 1.366848                 1.054094   \n3                 0.880839                -0.923192                -0.927232   \n4                 0.998411                 1.770694                 1.604566   \n5                 0.084794                -0.289294                -0.816410   \n\n   chroma_cens_kurtosis_09  ...  tonnetz_std_04  tonnetz_std_05  \\\n1                 0.866868  ...        0.054125        0.012226   \n2                 0.108103  ...        0.063831        0.014212   \n3                 0.666617  ...        0.040730        0.012691   \n4                 0.521217  ...        0.074358        0.017952   \n5                 0.043851  ...        0.095003        0.022492   \n\n   tonnetz_std_06  zcr_kurtosis_01  zcr_max_01  zcr_mean_01  zcr_median_01  \\\n1        0.012111         5.758890    0.459473     0.085629       0.071289   \n2        0.017740         2.824694    0.466309     0.084578       0.063965   \n3        0.014759         6.808415    0.375000     0.053114       0.041504   \n4        0.013921        21.434212    0.452148     0.077515       0.071777   \n5        0.021355        16.669037    0.469727     0.047225       0.040039   \n\n   zcr_min_01  zcr_skew_01  zcr_std_01  \n1    0.000000     2.089872    0.061448  \n2    0.000000     1.716724    0.069330  \n3    0.000000     2.193303    0.044861  \n4    0.000000     3.542325    0.040800  \n5    0.000977     3.189831    0.030993  \n\n[5 rows x 519 columns]",
      "text/html": "<div>\n<style scoped>\n    .dataframe tbody tr th:only-of-type {\n        vertical-align: middle;\n    }\n\n    .dataframe tbody tr th {\n        vertical-align: top;\n    }\n\n    .dataframe thead th {\n        text-align: right;\n    }\n</style>\n<table border=\"1\" class=\"dataframe\">\n  <thead>\n    <tr style=\"text-align: right;\">\n      <th></th>\n      <th>track_id</th>\n      <th>chroma_cens_kurtosis_01</th>\n      <th>chroma_cens_kurtosis_02</th>\n      <th>chroma_cens_kurtosis_03</th>\n      <th>chroma_cens_kurtosis_04</th>\n      <th>chroma_cens_kurtosis_05</th>\n      <th>chroma_cens_kurtosis_06</th>\n      <th>chroma_cens_kurtosis_07</th>\n      <th>chroma_cens_kurtosis_08</th>\n      <th>chroma_cens_kurtosis_09</th>\n      <th>...</th>\n      <th>tonnetz_std_04</th>\n      <th>tonnetz_std_05</th>\n      <th>tonnetz_std_06</th>\n      <th>zcr_kurtosis_01</th>\n      <th>zcr_max_01</th>\n      <th>zcr_mean_01</th>\n      <th>zcr_median_01</th>\n      <th>zcr_min_01</th>\n      <th>zcr_skew_01</th>\n      <th>zcr_std_01</th>\n    </tr>\n  </thead>\n  <tbody>\n    <tr>\n      <th>1</th>\n      <td>2</td>\n      <td>7.180653</td>\n      <td>5.230309</td>\n      <td>0.249321</td>\n      <td>1.347620</td>\n      <td>1.482478</td>\n      <td>0.531371</td>\n      <td>1.481593</td>\n      <td>2.691455</td>\n      <td>0.866868</td>\n      <td>...</td>\n      <td>0.054125</td>\n      <td>0.012226</td>\n      <td>0.012111</td>\n      <td>5.758890</td>\n      <td>0.459473</td>\n      <td>0.085629</td>\n      <td>0.071289</td>\n      <td>0.000000</td>\n      <td>2.089872</td>\n      <td>0.061448</td>\n    </tr>\n    <tr>\n      <th>2</th>\n      <td>3</td>\n      <td>1.888963</td>\n      <td>0.760539</td>\n      <td>0.345297</td>\n      <td>2.295201</td>\n      <td>1.654031</td>\n      <td>0.067592</td>\n      <td>1.366848</td>\n      <td>1.054094</td>\n      <td>0.108103</td>\n      <td>...</td>\n      <td>0.063831</td>\n      <td>0.014212</td>\n      <td>0.017740</td>\n      <td>2.824694</td>\n      <td>0.466309</td>\n      <td>0.084578</td>\n      <td>0.063965</td>\n      <td>0.000000</td>\n      <td>1.716724</td>\n      <td>0.069330</td>\n    </tr>\n    <tr>\n      <th>3</th>\n      <td>5</td>\n      <td>0.527563</td>\n      <td>-0.077654</td>\n      <td>-0.279610</td>\n      <td>0.685883</td>\n      <td>1.937570</td>\n      <td>0.880839</td>\n      <td>-0.923192</td>\n      <td>-0.927232</td>\n      <td>0.666617</td>\n      <td>...</td>\n      <td>0.040730</td>\n      <td>0.012691</td>\n      <td>0.014759</td>\n      <td>6.808415</td>\n      <td>0.375000</td>\n      <td>0.053114</td>\n      <td>0.041504</td>\n      <td>0.000000</td>\n      <td>2.193303</td>\n      <td>0.044861</td>\n    </tr>\n    <tr>\n      <th>4</th>\n      <td>10</td>\n      <td>3.702245</td>\n      <td>-0.291193</td>\n      <td>2.196742</td>\n      <td>-0.234449</td>\n      <td>1.367364</td>\n      <td>0.998411</td>\n      <td>1.770694</td>\n      <td>1.604566</td>\n      <td>0.521217</td>\n      <td>...</td>\n      <td>0.074358</td>\n      <td>0.017952</td>\n      <td>0.013921</td>\n      <td>21.434212</td>\n      <td>0.452148</td>\n      <td>0.077515</td>\n      <td>0.071777</td>\n      <td>0.000000</td>\n      <td>3.542325</td>\n      <td>0.040800</td>\n    </tr>\n    <tr>\n      <th>5</th>\n      <td>20</td>\n      <td>-0.193837</td>\n      <td>-0.198527</td>\n      <td>0.201546</td>\n      <td>0.258556</td>\n      <td>0.775204</td>\n      <td>0.084794</td>\n      <td>-0.289294</td>\n      <td>-0.816410</td>\n      <td>0.043851</td>\n      <td>...</td>\n      <td>0.095003</td>\n      <td>0.022492</td>\n      <td>0.021355</td>\n      <td>16.669037</td>\n      <td>0.469727</td>\n      <td>0.047225</td>\n      <td>0.040039</td>\n      <td>0.000977</td>\n      <td>3.189831</td>\n      <td>0.030993</td>\n    </tr>\n  </tbody>\n</table>\n<p>5 rows × 519 columns</p>\n</div>"
     },
     "execution_count": 45,
     "metadata": {},
     "output_type": "execute_result"
    }
   ],
   "source": [
    "features = pd.read_csv(dir+\"/features.csv\", header=[0,1,2])\n",
    "features.columns = features.columns.map('_'.join)\n",
    "features.rename(columns={ features.columns[0]: \"track_id\" }, inplace = True)\n",
    "features = features.iloc[1: , :]\n",
    "print(\"shape of the tracks dataframe: \",str(features.shape))\n",
    "features.head()"
   ],
   "metadata": {
    "collapsed": false,
    "pycharm": {
     "name": "#%%\n"
    }
   }
  },
  {
   "cell_type": "code",
   "execution_count": 44,
   "outputs": [
    {
     "data": {
      "text/plain": "Index(['feature_statistics_number', 'chroma_cens_kurtosis_01',\n       'chroma_cens_kurtosis_02', 'chroma_cens_kurtosis_03',\n       'chroma_cens_kurtosis_04', 'chroma_cens_kurtosis_05',\n       'chroma_cens_kurtosis_06', 'chroma_cens_kurtosis_07',\n       'chroma_cens_kurtosis_08', 'chroma_cens_kurtosis_09',\n       ...\n       'tonnetz_std_04', 'tonnetz_std_05', 'tonnetz_std_06', 'zcr_kurtosis_01',\n       'zcr_max_01', 'zcr_mean_01', 'zcr_median_01', 'zcr_min_01',\n       'zcr_skew_01', 'zcr_std_01'],\n      dtype='object', length=519)"
     },
     "execution_count": 44,
     "metadata": {},
     "output_type": "execute_result"
    }
   ],
   "source": [
    "features.columns"
   ],
   "metadata": {
    "collapsed": false,
    "pycharm": {
     "name": "#%%\n"
    }
   }
  },
  {
   "cell_type": "markdown",
   "source": [
    "## Features from Echonest (Spotify)"
   ],
   "metadata": {
    "collapsed": false,
    "pycharm": {
     "name": "#%% md\n"
    }
   }
  },
  {
   "cell_type": "code",
   "execution_count": 74,
   "outputs": [
    {
     "name": "stdout",
     "output_type": "stream",
     "text": [
      "shape of the echonest dataframe:  (13129, 250)\n"
     ]
    },
    {
     "data": {
      "text/plain": "  track_id  echonest_audio_features_acousticness  \\\n1        2                              0.416675   \n2        3                              0.374408   \n3        5                              0.043567   \n4       10                              0.951670   \n5      134                              0.452217   \n\n   echonest_audio_features_danceability  echonest_audio_features_energy  \\\n1                              0.675894                        0.634476   \n2                              0.528643                        0.817461   \n3                              0.745566                        0.701470   \n4                              0.658179                        0.924525   \n5                              0.513238                        0.560410   \n\n   echonest_audio_features_instrumentalness  echonest_audio_features_liveness  \\\n1                                  0.010628                          0.177647   \n2                                  0.001851                          0.105880   \n3                                  0.000697                          0.373143   \n4                                  0.965427                          0.115474   \n5                                  0.019443                          0.096567   \n\n   echonest_audio_features_speechiness  echonest_audio_features_tempo  \\\n1                             0.159310                        165.922   \n2                             0.461818                        126.957   \n3                             0.124595                        100.260   \n4                             0.032985                        111.562   \n5                             0.525519                        114.290   \n\n   echonest_audio_features_valence echonest_metadata_album_date  ...  \\\n1                         0.576661                          NaN  ...   \n2                         0.269240                          NaN  ...   \n3                         0.621661                          NaN  ...   \n4                         0.963590                   2008-03-11  ...   \n5                         0.894072                          NaN  ...   \n\n  echonest_temporal_features_214  echonest_temporal_features_215  \\\n1                      -1.992303                        6.805694   \n2                      -1.582331                        8.889308   \n3                      -2.288358                       11.527109   \n4                      -3.662988                       21.508228   \n5                      -1.452696                        2.356398   \n\n  echonest_temporal_features_216  echonest_temporal_features_217  \\\n1                       0.233070                        0.192880   \n2                       0.258464                        0.220905   \n3                       0.256821                        0.237820   \n4                       0.283352                        0.267070   \n5                       0.234686                        0.199550   \n\n  echonest_temporal_features_218 echonest_temporal_features_219  \\\n1                       0.027455                        0.06408   \n2                       0.081368                        0.06413   \n3                       0.060122                        0.06014   \n4                       0.125704                        0.08082   \n5                       0.149332                        0.06440   \n\n   echonest_temporal_features_220  echonest_temporal_features_221  \\\n1                         3.67696                         3.61288   \n2                         6.08277                         6.01864   \n3                         5.92649                         5.86635   \n4                         8.41401                         8.33319   \n5                        11.26707                        11.20267   \n\n   echonest_temporal_features_222  echonest_temporal_features_223  \n1                       13.316690                      262.929749  \n2                       16.673548                      325.581085  \n3                       16.013849                      356.755737  \n4                       21.317064                      483.403809  \n5                       26.454180                      751.147705  \n\n[5 rows x 250 columns]",
      "text/html": "<div>\n<style scoped>\n    .dataframe tbody tr th:only-of-type {\n        vertical-align: middle;\n    }\n\n    .dataframe tbody tr th {\n        vertical-align: top;\n    }\n\n    .dataframe thead th {\n        text-align: right;\n    }\n</style>\n<table border=\"1\" class=\"dataframe\">\n  <thead>\n    <tr style=\"text-align: right;\">\n      <th></th>\n      <th>track_id</th>\n      <th>echonest_audio_features_acousticness</th>\n      <th>echonest_audio_features_danceability</th>\n      <th>echonest_audio_features_energy</th>\n      <th>echonest_audio_features_instrumentalness</th>\n      <th>echonest_audio_features_liveness</th>\n      <th>echonest_audio_features_speechiness</th>\n      <th>echonest_audio_features_tempo</th>\n      <th>echonest_audio_features_valence</th>\n      <th>echonest_metadata_album_date</th>\n      <th>...</th>\n      <th>echonest_temporal_features_214</th>\n      <th>echonest_temporal_features_215</th>\n      <th>echonest_temporal_features_216</th>\n      <th>echonest_temporal_features_217</th>\n      <th>echonest_temporal_features_218</th>\n      <th>echonest_temporal_features_219</th>\n      <th>echonest_temporal_features_220</th>\n      <th>echonest_temporal_features_221</th>\n      <th>echonest_temporal_features_222</th>\n      <th>echonest_temporal_features_223</th>\n    </tr>\n  </thead>\n  <tbody>\n    <tr>\n      <th>1</th>\n      <td>2</td>\n      <td>0.416675</td>\n      <td>0.675894</td>\n      <td>0.634476</td>\n      <td>0.010628</td>\n      <td>0.177647</td>\n      <td>0.159310</td>\n      <td>165.922</td>\n      <td>0.576661</td>\n      <td>NaN</td>\n      <td>...</td>\n      <td>-1.992303</td>\n      <td>6.805694</td>\n      <td>0.233070</td>\n      <td>0.192880</td>\n      <td>0.027455</td>\n      <td>0.06408</td>\n      <td>3.67696</td>\n      <td>3.61288</td>\n      <td>13.316690</td>\n      <td>262.929749</td>\n    </tr>\n    <tr>\n      <th>2</th>\n      <td>3</td>\n      <td>0.374408</td>\n      <td>0.528643</td>\n      <td>0.817461</td>\n      <td>0.001851</td>\n      <td>0.105880</td>\n      <td>0.461818</td>\n      <td>126.957</td>\n      <td>0.269240</td>\n      <td>NaN</td>\n      <td>...</td>\n      <td>-1.582331</td>\n      <td>8.889308</td>\n      <td>0.258464</td>\n      <td>0.220905</td>\n      <td>0.081368</td>\n      <td>0.06413</td>\n      <td>6.08277</td>\n      <td>6.01864</td>\n      <td>16.673548</td>\n      <td>325.581085</td>\n    </tr>\n    <tr>\n      <th>3</th>\n      <td>5</td>\n      <td>0.043567</td>\n      <td>0.745566</td>\n      <td>0.701470</td>\n      <td>0.000697</td>\n      <td>0.373143</td>\n      <td>0.124595</td>\n      <td>100.260</td>\n      <td>0.621661</td>\n      <td>NaN</td>\n      <td>...</td>\n      <td>-2.288358</td>\n      <td>11.527109</td>\n      <td>0.256821</td>\n      <td>0.237820</td>\n      <td>0.060122</td>\n      <td>0.06014</td>\n      <td>5.92649</td>\n      <td>5.86635</td>\n      <td>16.013849</td>\n      <td>356.755737</td>\n    </tr>\n    <tr>\n      <th>4</th>\n      <td>10</td>\n      <td>0.951670</td>\n      <td>0.658179</td>\n      <td>0.924525</td>\n      <td>0.965427</td>\n      <td>0.115474</td>\n      <td>0.032985</td>\n      <td>111.562</td>\n      <td>0.963590</td>\n      <td>2008-03-11</td>\n      <td>...</td>\n      <td>-3.662988</td>\n      <td>21.508228</td>\n      <td>0.283352</td>\n      <td>0.267070</td>\n      <td>0.125704</td>\n      <td>0.08082</td>\n      <td>8.41401</td>\n      <td>8.33319</td>\n      <td>21.317064</td>\n      <td>483.403809</td>\n    </tr>\n    <tr>\n      <th>5</th>\n      <td>134</td>\n      <td>0.452217</td>\n      <td>0.513238</td>\n      <td>0.560410</td>\n      <td>0.019443</td>\n      <td>0.096567</td>\n      <td>0.525519</td>\n      <td>114.290</td>\n      <td>0.894072</td>\n      <td>NaN</td>\n      <td>...</td>\n      <td>-1.452696</td>\n      <td>2.356398</td>\n      <td>0.234686</td>\n      <td>0.199550</td>\n      <td>0.149332</td>\n      <td>0.06440</td>\n      <td>11.26707</td>\n      <td>11.20267</td>\n      <td>26.454180</td>\n      <td>751.147705</td>\n    </tr>\n  </tbody>\n</table>\n<p>5 rows × 250 columns</p>\n</div>"
     },
     "execution_count": 74,
     "metadata": {},
     "output_type": "execute_result"
    }
   ],
   "source": [
    "echonest = pd.read_csv(dir+\"/echonest.csv\", header=[0,1,2])\n",
    "echonest.columns = echonest.columns.map('_'.join)\n",
    "echonest.rename(columns={ echonest.columns[0]: \"track_id\" }, inplace = True)\n",
    "echonest = echonest.iloc[1: , :]\n",
    "#echonest.columns = [col.replace('_', ' ') for col in echonest.columns]\n",
    "print(\"shape of the echonest dataframe: \",str(echonest.shape))\n",
    "echonest.head()"
   ],
   "metadata": {
    "collapsed": false,
    "pycharm": {
     "name": "#%%\n"
    }
   }
  },
  {
   "cell_type": "code",
   "execution_count": 77,
   "outputs": [
    {
     "data": {
      "text/plain": "Index(['track_id', 'echonest_audio_features_acousticness',\n       'echonest_audio_features_danceability',\n       'echonest_audio_features_energy',\n       'echonest_audio_features_instrumentalness',\n       'echonest_audio_features_liveness',\n       'echonest_audio_features_speechiness', 'echonest_audio_features_tempo',\n       'echonest_audio_features_valence', 'echonest_metadata_album_date',\n       ...\n       'echonest_temporal_features_214', 'echonest_temporal_features_215',\n       'echonest_temporal_features_216', 'echonest_temporal_features_217',\n       'echonest_temporal_features_218', 'echonest_temporal_features_219',\n       'echonest_temporal_features_220', 'echonest_temporal_features_221',\n       'echonest_temporal_features_222', 'echonest_temporal_features_223'],\n      dtype='object', length=250)"
     },
     "execution_count": 77,
     "metadata": {},
     "output_type": "execute_result"
    }
   ],
   "source": [
    "echonest.columns"
   ],
   "metadata": {
    "collapsed": false,
    "pycharm": {
     "name": "#%%\n"
    }
   }
  },
  {
   "cell_type": "code",
   "execution_count": 78,
   "outputs": [
    {
     "data": {
      "text/plain": "  track_id  echonest_audio_features_acousticness  \\\n1        2                              0.416675   \n2        3                              0.374408   \n3        5                              0.043567   \n4       10                              0.951670   \n5      134                              0.452217   \n\n   echonest_audio_features_danceability  echonest_audio_features_energy  \\\n1                              0.675894                        0.634476   \n2                              0.528643                        0.817461   \n3                              0.745566                        0.701470   \n4                              0.658179                        0.924525   \n5                              0.513238                        0.560410   \n\n   echonest_audio_features_instrumentalness  echonest_audio_features_liveness  \\\n1                                  0.010628                          0.177647   \n2                                  0.001851                          0.105880   \n3                                  0.000697                          0.373143   \n4                                  0.965427                          0.115474   \n5                                  0.019443                          0.096567   \n\n   echonest_audio_features_speechiness  echonest_audio_features_tempo  \\\n1                             0.159310                        165.922   \n2                             0.461818                        126.957   \n3                             0.124595                        100.260   \n4                             0.032985                        111.562   \n5                             0.525519                        114.290   \n\n   echonest_audio_features_valence  \n1                         0.576661  \n2                         0.269240  \n3                         0.621661  \n4                         0.963590  \n5                         0.894072  ",
      "text/html": "<div>\n<style scoped>\n    .dataframe tbody tr th:only-of-type {\n        vertical-align: middle;\n    }\n\n    .dataframe tbody tr th {\n        vertical-align: top;\n    }\n\n    .dataframe thead th {\n        text-align: right;\n    }\n</style>\n<table border=\"1\" class=\"dataframe\">\n  <thead>\n    <tr style=\"text-align: right;\">\n      <th></th>\n      <th>track_id</th>\n      <th>echonest_audio_features_acousticness</th>\n      <th>echonest_audio_features_danceability</th>\n      <th>echonest_audio_features_energy</th>\n      <th>echonest_audio_features_instrumentalness</th>\n      <th>echonest_audio_features_liveness</th>\n      <th>echonest_audio_features_speechiness</th>\n      <th>echonest_audio_features_tempo</th>\n      <th>echonest_audio_features_valence</th>\n    </tr>\n  </thead>\n  <tbody>\n    <tr>\n      <th>1</th>\n      <td>2</td>\n      <td>0.416675</td>\n      <td>0.675894</td>\n      <td>0.634476</td>\n      <td>0.010628</td>\n      <td>0.177647</td>\n      <td>0.159310</td>\n      <td>165.922</td>\n      <td>0.576661</td>\n    </tr>\n    <tr>\n      <th>2</th>\n      <td>3</td>\n      <td>0.374408</td>\n      <td>0.528643</td>\n      <td>0.817461</td>\n      <td>0.001851</td>\n      <td>0.105880</td>\n      <td>0.461818</td>\n      <td>126.957</td>\n      <td>0.269240</td>\n    </tr>\n    <tr>\n      <th>3</th>\n      <td>5</td>\n      <td>0.043567</td>\n      <td>0.745566</td>\n      <td>0.701470</td>\n      <td>0.000697</td>\n      <td>0.373143</td>\n      <td>0.124595</td>\n      <td>100.260</td>\n      <td>0.621661</td>\n    </tr>\n    <tr>\n      <th>4</th>\n      <td>10</td>\n      <td>0.951670</td>\n      <td>0.658179</td>\n      <td>0.924525</td>\n      <td>0.965427</td>\n      <td>0.115474</td>\n      <td>0.032985</td>\n      <td>111.562</td>\n      <td>0.963590</td>\n    </tr>\n    <tr>\n      <th>5</th>\n      <td>134</td>\n      <td>0.452217</td>\n      <td>0.513238</td>\n      <td>0.560410</td>\n      <td>0.019443</td>\n      <td>0.096567</td>\n      <td>0.525519</td>\n      <td>114.290</td>\n      <td>0.894072</td>\n    </tr>\n  </tbody>\n</table>\n</div>"
     },
     "execution_count": 78,
     "metadata": {},
     "output_type": "execute_result"
    }
   ],
   "source": [
    "features_of_interest = ('track_id','acousticness', 'danceability', 'energy', 'instrumentalness', 'liveness', 'speechiness', 'tempo', 'valence')\n",
    "echonest_features_of_interest = echonest.loc[:, echonest.columns.str.endswith(features_of_interest)]\n",
    "echonest_features_of_interest.head()"
   ],
   "metadata": {
    "collapsed": false,
    "pycharm": {
     "name": "#%%\n"
    }
   }
  },
  {
   "cell_type": "markdown",
   "source": [
    "## Combine All Features"
   ],
   "metadata": {
    "collapsed": false,
    "pycharm": {
     "name": "#%% md\n"
    }
   }
  },
  {
   "cell_type": "code",
   "execution_count": 84,
   "outputs": [
    {
     "name": "stdout",
     "output_type": "stream",
     "text": [
      "The shape of the combined data:  (7307, 530)\n"
     ]
    }
   ],
   "source": [
    "from functools import reduce\n",
    "\n",
    "# compile the list of dataframes you want to merge\n",
    "data_frames = [tracks_features_of_interest, echonest_features_of_interest, features]\n",
    "data = reduce(lambda  left,right: pd.merge(left,right,on=['track_id'],\n",
    "                                            how='inner'), data_frames)\n",
    "print(\"The shape of the combined data: \",str(data.shape))"
   ],
   "metadata": {
    "collapsed": false,
    "pycharm": {
     "name": "#%%\n"
    }
   }
  },
  {
   "cell_type": "code",
   "execution_count": 93,
   "outputs": [
    {
     "name": "stdout",
     "output_type": "stream",
     "text": [
      "The shape of the data after dropping empty values in genre column:  (4743, 530)\n"
     ]
    }
   ],
   "source": [
    "data = data.dropna(subset=['track_genre_top'])\n",
    "print(\"The shape of the data after dropping empty values in genre column: \", str(data.shape))"
   ],
   "metadata": {
    "collapsed": false,
    "pycharm": {
     "name": "#%%\n"
    }
   }
  },
  {
   "cell_type": "code",
   "execution_count": 94,
   "outputs": [
    {
     "data": {
      "text/plain": "<AxesSubplot:>"
     },
     "execution_count": 94,
     "metadata": {},
     "output_type": "execute_result"
    },
    {
     "data": {
      "text/plain": "<Figure size 432x288 with 1 Axes>",
      "image/png": "[encoded data removed]"
     },
     "metadata": {
      "needs_background": "light"
     },
     "output_type": "display_data"
    }
   ],
   "source": [
    "data['track_genre_top'].value_counts().plot.bar()"
   ],
   "metadata": {
    "collapsed": false,
    "pycharm": {
     "name": "#%%\n"
    }
   }
  },
  {
   "cell_type": "markdown",
   "source": [
    "There is a problem of imbalance among the genre, where Rocks have the most tracks with the features of interest, and Blues have the least tracks."
   ],
   "metadata": {
    "collapsed": false,
    "pycharm": {
     "name": "#%% md\n"
    }
   }
  },
  {
   "cell_type": "code",
   "execution_count": null,
   "outputs": [],
   "source": [],
   "metadata": {
    "collapsed": false,
    "pycharm": {
     "name": "#%%\n"
    }
   }
  }
 ],
 "metadata": {
  "kernelspec": {
   "display_name": "Python 3",
   "language": "python",
   "name": "python3"
  },
  "language_info": {
   "codemirror_mode": {
    "name": "ipython",
    "version": 2
   },
   "file_extension": ".py",
   "mimetype": "text/x-python",
   "name": "python",
   "nbconvert_exporter": "python",
   "pygments_lexer": "ipython2",
   "version": "2.7.6"
  }
 },
 "nbformat": 4,
 "nbformat_minor": 0
}